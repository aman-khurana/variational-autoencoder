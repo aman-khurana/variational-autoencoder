{
 "cells": [
  {
   "cell_type": "markdown",
   "metadata": {
    "colab_type": "text",
    "heading_collapsed": true,
    "id": "unUi22YBwJvJ"
   },
   "source": [
    "### Imports"
   ]
  },
  {
   "cell_type": "code",
   "execution_count": 2,
   "metadata": {
    "colab": {},
    "colab_type": "code",
    "hidden": true,
    "id": "kSU1P5Bvt4WI"
   },
   "outputs": [],
   "source": [
    "import tensorflow as tf\n",
    "from tensorflow.keras.layers import Dense, Lambda, Input, InputLayer, Conv2D, Conv2DTranspose, Reshape\n",
    "from tensorflow.keras.models import Model, Sequential\n",
    "from tensorflow.keras.datasets import mnist\n",
    "from tensorflow.keras.optimizers import Adam\n",
    "from tensorflow.keras.losses import binary_crossentropy, mse\n",
    "from tensorflow.keras.utils import plot_model\n",
    "import numpy as np\n",
    "import matplotlib.pyplot as plt\n"
   ]
  },
  {
   "cell_type": "markdown",
   "metadata": {
    "colab_type": "text",
    "heading_collapsed": true,
    "id": "jZ2kszaOwM4-"
   },
   "source": [
    "### Data"
   ]
  },
  {
   "cell_type": "code",
   "execution_count": 3,
   "metadata": {
    "colab": {},
    "colab_type": "code",
    "hidden": true,
    "id": "syedC1dZt4WW"
   },
   "outputs": [],
   "source": [
    "(X_train, y_train), (X_test, y_test) = mnist.load_data()"
   ]
  },
  {
   "cell_type": "code",
   "execution_count": 4,
   "metadata": {
    "colab": {},
    "colab_type": "code",
    "hidden": true,
    "id": "IQ5a6__lt4Wp"
   },
   "outputs": [],
   "source": [
    "X_train = X_train/255\n",
    "X_test = X_test/255\n",
    "\n",
    "X_train = X_train.reshape((-1, 784 ))\n",
    "X_test  = X_test.reshape((-1, 784))\n"
   ]
  },
  {
   "cell_type": "code",
   "execution_count": 5,
   "metadata": {
    "colab": {},
    "colab_type": "code",
    "hidden": true,
    "id": "zVReXpBkt4XO"
   },
   "outputs": [],
   "source": [
    "batch_size = 256\n",
    "train_ds = tf.data.Dataset.from_tensor_slices(X_train).shuffle(60000).batch(batch_size)\n",
    "test_ds = tf.data.Dataset.from_tensor_slices(X_test).shuffle(10000).batch(batch_size)"
   ]
  },
  {
   "cell_type": "markdown",
   "metadata": {
    "colab_type": "text",
    "heading_collapsed": true,
    "id": "DIbySxAdwTmo"
   },
   "source": [
    "### Model"
   ]
  },
  {
   "cell_type": "code",
   "execution_count": 6,
   "metadata": {
    "colab": {},
    "colab_type": "code",
    "hidden": true,
    "id": "qBv-x6Set4W_"
   },
   "outputs": [],
   "source": [
    "class VAE(Model):\n",
    "\n",
    "    def __init__(self, n_input, nz, n_hidden):\n",
    "\n",
    "        super(VAE, self).__init__()\n",
    "        self.encoder = Sequential([\n",
    "                                InputLayer(input_shape = (n_input, )),\n",
    "                                Dense(n_hidden, activation = 'relu'),\n",
    "                                Dense(nz+nz, activation = 'linear'),\n",
    "\n",
    "        ])\n",
    "\n",
    "        self.decoder = Sequential([\n",
    "                                   InputLayer(input_shape=(nz,)),\n",
    "                                   Dense(n_hidden, activation = 'relu'),\n",
    "                                   Dense(n_input, activation = 'sigmoid')\n",
    "        ])\n",
    "\n",
    "    def get_z(self, x):\n",
    "\n",
    "        z_mean, z_log_var = tf.split(self.encoder(x), 2, axis = 1)\n",
    "        return z_mean, z_log_var\n",
    "\n",
    "    def reparameterize(self, z_mean, z_log_var):\n",
    "        \n",
    "        z = z_mean  + tf.random.normal(z_mean.shape) * tf.exp(z_log_var * 0.5)\n",
    "\n",
    "        return z\n",
    "\n",
    "@tf.function\n",
    "def compute_loss(model, x):\n",
    "        \n",
    "        z_mean, z_log_variance = model.get_z(x)\n",
    "        z = model.reparameterize(z_mean, z_log_variance)\n",
    "        x_out = model.decoder(z)\n",
    "        \n",
    "        ## loss for maximum log likelihood\n",
    "        loss = mse(x, x_out)\n",
    "        \n",
    "        loss *= n_input\n",
    "        \n",
    "        ## using closed form of KL divergence\n",
    "        kl_divergence = -0.5*tf.reduce_sum(1 + z_log_variance - \n",
    "                                           tf.square(z_mean)\n",
    "                                           - tf.exp(z_log_variance), axis = 1)\n",
    "        \n",
    "\n",
    "        total_loss = loss + kl_divergence\n",
    "\n",
    "        return tf.reduce_mean(total_loss)\n",
    "\n",
    "\n",
    "@tf.function\n",
    "def apply_gradients(model, x):\n",
    "    \n",
    "    with tf.GradientTape() as tape:\n",
    "        loss = compute_loss(model, x)\n",
    "    \n",
    "    gradients = tape.gradient(loss, model.trainable_variables)\n",
    "    opt.apply_gradients(zip(gradients, model.trainable_variables))\n",
    "    \n",
    "    return loss"
   ]
  },
  {
   "cell_type": "markdown",
   "metadata": {
    "colab_type": "text",
    "id": "MN_jKGR6k7cE"
   },
   "source": [
    "## Training"
   ]
  },
  {
   "cell_type": "markdown",
   "metadata": {
    "colab_type": "text",
    "heading_collapsed": true,
    "id": "jG9rcqOI5Zjq"
   },
   "source": [
    "### Utils"
   ]
  },
  {
   "cell_type": "code",
   "execution_count": 7,
   "metadata": {
    "colab": {},
    "colab_type": "code",
    "hidden": true,
    "id": "f6d13UeLg1hf"
   },
   "outputs": [],
   "source": [
    "def train(model, opt, epochs):\n",
    "\n",
    "    epoch_losses = []\n",
    "    for epoch in range(epochs):\n",
    "\n",
    "      batch_losses = []\n",
    "      for train in train_ds:\n",
    "        loss = apply_gradients(model, train)\n",
    "        batch_losses.append(loss.numpy().mean())\n",
    "      \n",
    "      epoch_loss = np.mean(batch_losses)\n",
    "      epoch_losses.append(epoch_loss)\n",
    "      print('Epoch: {},  Loss: {}, '.format(epoch,epoch_loss))"
   ]
  },
  {
   "cell_type": "code",
   "execution_count": 8,
   "metadata": {
    "colab": {},
    "colab_type": "code",
    "hidden": true,
    "id": "lMLiK4TGhkws"
   },
   "outputs": [],
   "source": [
    "def plot_samples(num_samples, nz):\n",
    "\n",
    "    samples = tf.random.normal([num_samples, nz])\n",
    "    generated_out = model.decoder(samples)\n",
    "\n",
    "    plt.figure(figsize = (10,10))\n",
    "\n",
    "    for i, img in enumerate(generated_out.numpy()):\n",
    "      plt.subplot(5,5, i+1)\n",
    "      plt.imshow(img.reshape((28,28)), cmap='gray')\n"
   ]
  },
  {
   "cell_type": "code",
   "execution_count": 9,
   "metadata": {
    "colab": {},
    "colab_type": "code",
    "hidden": true,
    "id": "Yi71bjDRmdWf"
   },
   "outputs": [],
   "source": [
    "def plot_samples_in_range(num_samples, min_val, max_val):\n",
    "    \n",
    "    c1 = np.linspace(min_val, max_val, num_samples)\n",
    "    c2 = np.linspace(min_val, max_val, num_samples)\n",
    "    np.vstack((c1, c2))\n",
    "    samples = np.vstack((c1, c2)).T\n",
    "    generated_out = model.decoder(samples)\n",
    "\n",
    "    plt.figure(figsize = (10,10))\n",
    "\n",
    "    for i, img in enumerate(generated_out.numpy()):\n",
    "      plt.subplot(5,5, i+1)\n",
    "      plt.imshow(img.reshape((28,28)), cmap='gray')"
   ]
  },
  {
   "cell_type": "markdown",
   "metadata": {
    "colab_type": "text",
    "heading_collapsed": true,
    "id": "pze8IGNJwYMr"
   },
   "source": [
    "### Training and Output - Code Units 2"
   ]
  },
  {
   "cell_type": "markdown",
   "metadata": {
    "colab_type": "text",
    "hidden": true,
    "id": "oT1Dwgd2oB_p"
   },
   "source": [
    "**run the Model snippet above to create a new tf graph before running the following code snippets (has to be run before running every new model)**"
   ]
  },
  {
   "cell_type": "code",
   "execution_count": 10,
   "metadata": {
    "colab": {},
    "colab_type": "code",
    "hidden": true,
    "id": "LX6-_vDt8Nno"
   },
   "outputs": [],
   "source": [
    "nz = 2\n",
    "n_hidden = 256\n",
    "n_input = 784\n",
    "epochs = 50\n",
    "\n",
    "opt = Adam()\n",
    "model  = VAE(n_input, nz, n_hidden)"
   ]
  },
  {
   "cell_type": "code",
   "execution_count": 11,
   "metadata": {
    "colab": {
     "base_uri": "https://localhost:8080/",
     "height": 885
    },
    "colab_type": "code",
    "hidden": true,
    "id": "Y61u_PZrhKKS",
    "outputId": "38e133f6-0d87-4931-a0a3-95a4d12e0651"
   },
   "outputs": [
    {
     "name": "stdout",
     "output_type": "stream",
     "text": [
      "WARNING:tensorflow:Layer dense is casting an input tensor from dtype float64 to the layer's dtype of float32, which is new behavior in TensorFlow 2.  The layer has dtype float32 because it's dtype defaults to floatx.\n",
      "\n",
      "If you intended to run this layer in float32, you can safely ignore this warning. If in doubt, this warning is likely only an issue if you are porting a TensorFlow 1.X model to TensorFlow 2.\n",
      "\n",
      "To change all layers to have dtype float64 by default, call `tf.keras.backend.set_floatx('float64')`. To change just this layer, pass dtype='float64' to the layer constructor. If you are the author of this layer, you can disable autocasting by passing autocast=False to the base Layer constructor.\n",
      "\n",
      "Epoch: 0,  Loss: 61.8636474609375, \n",
      "Epoch: 1,  Loss: 46.64276123046875, \n",
      "Epoch: 2,  Loss: 44.26352310180664, \n",
      "Epoch: 3,  Loss: 43.24063491821289, \n",
      "Epoch: 4,  Loss: 42.714508056640625, \n",
      "Epoch: 5,  Loss: 42.34909439086914, \n",
      "Epoch: 6,  Loss: 42.016258239746094, \n",
      "Epoch: 7,  Loss: 41.70407485961914, \n",
      "Epoch: 8,  Loss: 41.42688751220703, \n",
      "Epoch: 9,  Loss: 41.182708740234375, \n",
      "Epoch: 10,  Loss: 40.95417785644531, \n",
      "Epoch: 11,  Loss: 40.7597770690918, \n",
      "Epoch: 12,  Loss: 40.55290985107422, \n",
      "Epoch: 13,  Loss: 40.378440856933594, \n",
      "Epoch: 14,  Loss: 40.20697021484375, \n",
      "Epoch: 15,  Loss: 40.07209777832031, \n",
      "Epoch: 16,  Loss: 39.90643310546875, \n",
      "Epoch: 17,  Loss: 39.77432632446289, \n",
      "Epoch: 18,  Loss: 39.65143966674805, \n",
      "Epoch: 19,  Loss: 39.53356170654297, \n",
      "Epoch: 20,  Loss: 39.38808822631836, \n",
      "Epoch: 21,  Loss: 39.29804611206055, \n",
      "Epoch: 22,  Loss: 39.18642044067383, \n",
      "Epoch: 23,  Loss: 39.0652961730957, \n",
      "Epoch: 24,  Loss: 38.968284606933594, \n",
      "Epoch: 25,  Loss: 38.88352584838867, \n",
      "Epoch: 26,  Loss: 38.778690338134766, \n",
      "Epoch: 27,  Loss: 38.67258834838867, \n",
      "Epoch: 28,  Loss: 38.60060119628906, \n",
      "Epoch: 29,  Loss: 38.532859802246094, \n",
      "Epoch: 30,  Loss: 38.468719482421875, \n",
      "Epoch: 31,  Loss: 38.40426254272461, \n",
      "Epoch: 32,  Loss: 38.301055908203125, \n",
      "Epoch: 33,  Loss: 38.25019073486328, \n",
      "Epoch: 34,  Loss: 38.18589782714844, \n",
      "Epoch: 35,  Loss: 38.1049690246582, \n",
      "Epoch: 36,  Loss: 38.04817199707031, \n",
      "Epoch: 37,  Loss: 37.98136901855469, \n",
      "Epoch: 38,  Loss: 37.956974029541016, \n",
      "Epoch: 39,  Loss: 37.88468933105469, \n",
      "Epoch: 40,  Loss: 37.83357620239258, \n",
      "Epoch: 41,  Loss: 37.78995132446289, \n",
      "Epoch: 42,  Loss: 37.71839141845703, \n",
      "Epoch: 43,  Loss: 37.6844482421875, \n",
      "Epoch: 44,  Loss: 37.652828216552734, \n",
      "Epoch: 45,  Loss: 37.60560607910156, \n",
      "Epoch: 46,  Loss: 37.56668472290039, \n",
      "Epoch: 47,  Loss: 37.52500915527344, \n",
      "Epoch: 48,  Loss: 37.4970588684082, \n",
      "Epoch: 49,  Loss: 37.46030044555664, \n"
     ]
    }
   ],
   "source": [
    "train(model, opt, epochs)"
   ]
  },
  {
   "cell_type": "code",
   "execution_count": 13,
   "metadata": {
    "colab": {
     "base_uri": "https://localhost:8080/",
     "height": 256
    },
    "colab_type": "code",
    "hidden": true,
    "id": "A7gJBd2KovrU",
    "outputId": "11081f2a-98ab-4dfa-a105-8dda046053d3"
   },
   "outputs": [
    {
     "data": {
      "image/png": "[encoded data removed]",
      "text/plain": [
       "<Figure size 720x720 with 10 Axes>"
      ]
     },
     "metadata": {
      "needs_background": "light"
     },
     "output_type": "display_data"
    }
   ],
   "source": [
    "plot_samples_in_range(10, -3, 3)"
   ]
  },
  {
   "cell_type": "markdown",
   "metadata": {
    "colab_type": "text",
    "heading_collapsed": true,
    "id": "LKdsm7LuwiNf"
   },
   "source": [
    "### Training and Output - Code Units 8"
   ]
  },
  {
   "cell_type": "markdown",
   "metadata": {
    "colab_type": "text",
    "hidden": true,
    "id": "S18-rpcY5iyf"
   },
   "source": [
    "**run the Model snippet above to create a new tf graph before running the following code snippets (has to be run before running every new model)**"
   ]
  },
  {
   "cell_type": "code",
   "execution_count": 0,
   "metadata": {
    "colab": {},
    "colab_type": "code",
    "hidden": true,
    "id": "1JD83tYl-04-"
   },
   "outputs": [],
   "source": [
    "nz = 8\n",
    "n_hidden = 256\n",
    "n_input = 784\n",
    "epochs = 80\n",
    "\n",
    "opt = Adam()\n",
    "model  = VAE(n_input, nz, n_hidden)"
   ]
  },
  {
   "cell_type": "code",
   "execution_count": 115,
   "metadata": {
    "colab": {
     "base_uri": "https://localhost:8080/",
     "height": 1000
    },
    "colab_type": "code",
    "hidden": true,
    "id": "vuxp0jS0oGkw",
    "outputId": "4787e64b-5803-4a5c-84ef-9005727f902e"
   },
   "outputs": [
    {
     "name": "stdout",
     "output_type": "stream",
     "text": [
      "Epoch: 0,  Loss: 57.463623046875, \n",
      "Epoch: 1,  Loss: 38.7388801574707, \n",
      "Epoch: 2,  Loss: 35.681392669677734, \n",
      "Epoch: 3,  Loss: 34.423004150390625, \n",
      "Epoch: 4,  Loss: 33.66008377075195, \n",
      "Epoch: 5,  Loss: 33.157859802246094, \n",
      "Epoch: 6,  Loss: 32.81501388549805, \n",
      "Epoch: 7,  Loss: 32.511474609375, \n",
      "Epoch: 8,  Loss: 32.276519775390625, \n",
      "Epoch: 9,  Loss: 32.10707092285156, \n",
      "Epoch: 10,  Loss: 31.923067092895508, \n",
      "Epoch: 11,  Loss: 31.770383834838867, \n",
      "Epoch: 12,  Loss: 31.62129783630371, \n",
      "Epoch: 13,  Loss: 31.499916076660156, \n",
      "Epoch: 14,  Loss: 31.388181686401367, \n",
      "Epoch: 15,  Loss: 31.266027450561523, \n",
      "Epoch: 16,  Loss: 31.15500831604004, \n",
      "Epoch: 17,  Loss: 31.064586639404297, \n",
      "Epoch: 18,  Loss: 30.95942497253418, \n",
      "Epoch: 19,  Loss: 30.8687744140625, \n",
      "Epoch: 20,  Loss: 30.780752182006836, \n",
      "Epoch: 21,  Loss: 30.706016540527344, \n",
      "Epoch: 22,  Loss: 30.651561737060547, \n",
      "Epoch: 23,  Loss: 30.585033416748047, \n",
      "Epoch: 24,  Loss: 30.52370834350586, \n",
      "Epoch: 25,  Loss: 30.43775749206543, \n",
      "Epoch: 26,  Loss: 30.390865325927734, \n",
      "Epoch: 27,  Loss: 30.34115219116211, \n",
      "Epoch: 28,  Loss: 30.254350662231445, \n",
      "Epoch: 29,  Loss: 30.227460861206055, \n",
      "Epoch: 30,  Loss: 30.163684844970703, \n",
      "Epoch: 31,  Loss: 30.121084213256836, \n",
      "Epoch: 32,  Loss: 30.08193588256836, \n",
      "Epoch: 33,  Loss: 30.020973205566406, \n",
      "Epoch: 34,  Loss: 29.983139038085938, \n",
      "Epoch: 35,  Loss: 29.932384490966797, \n",
      "Epoch: 36,  Loss: 29.91558074951172, \n",
      "Epoch: 37,  Loss: 29.848413467407227, \n",
      "Epoch: 38,  Loss: 29.835779190063477, \n",
      "Epoch: 39,  Loss: 29.793079376220703, \n",
      "Epoch: 40,  Loss: 29.755739212036133, \n",
      "Epoch: 41,  Loss: 29.734275817871094, \n",
      "Epoch: 42,  Loss: 29.71673583984375, \n",
      "Epoch: 43,  Loss: 29.68353843688965, \n",
      "Epoch: 44,  Loss: 29.627399444580078, \n",
      "Epoch: 45,  Loss: 29.6060733795166, \n",
      "Epoch: 46,  Loss: 29.591211318969727, \n",
      "Epoch: 47,  Loss: 29.57439422607422, \n",
      "Epoch: 48,  Loss: 29.532480239868164, \n",
      "Epoch: 49,  Loss: 29.525737762451172, \n",
      "Epoch: 50,  Loss: 29.485027313232422, \n",
      "Epoch: 51,  Loss: 29.457904815673828, \n",
      "Epoch: 52,  Loss: 29.452884674072266, \n",
      "Epoch: 53,  Loss: 29.413894653320312, \n",
      "Epoch: 54,  Loss: 29.391796112060547, \n",
      "Epoch: 55,  Loss: 29.382314682006836, \n",
      "Epoch: 56,  Loss: 29.367206573486328, \n",
      "Epoch: 57,  Loss: 29.338415145874023, \n",
      "Epoch: 58,  Loss: 29.33302116394043, \n",
      "Epoch: 59,  Loss: 29.306150436401367, \n",
      "Epoch: 60,  Loss: 29.269765853881836, \n",
      "Epoch: 61,  Loss: 29.277997970581055, \n",
      "Epoch: 62,  Loss: 29.255023956298828, \n",
      "Epoch: 63,  Loss: 29.263198852539062, \n",
      "Epoch: 64,  Loss: 29.22585105895996, \n",
      "Epoch: 65,  Loss: 29.23280906677246, \n",
      "Epoch: 66,  Loss: 29.1975154876709, \n",
      "Epoch: 67,  Loss: 29.178739547729492, \n",
      "Epoch: 68,  Loss: 29.169389724731445, \n",
      "Epoch: 69,  Loss: 29.161985397338867, \n",
      "Epoch: 70,  Loss: 29.134674072265625, \n",
      "Epoch: 71,  Loss: 29.104726791381836, \n",
      "Epoch: 72,  Loss: 29.109783172607422, \n",
      "Epoch: 73,  Loss: 29.09710693359375, \n",
      "Epoch: 74,  Loss: 29.08365821838379, \n",
      "Epoch: 75,  Loss: 29.07977867126465, \n",
      "Epoch: 76,  Loss: 29.065845489501953, \n",
      "Epoch: 77,  Loss: 29.074098587036133, \n",
      "Epoch: 78,  Loss: 29.041715621948242, \n",
      "Epoch: 79,  Loss: 29.03758430480957, \n"
     ]
    }
   ],
   "source": [
    "train(model, opt, epochs)"
   ]
  },
  {
   "cell_type": "code",
   "execution_count": 124,
   "metadata": {
    "colab": {
     "base_uri": "https://localhost:8080/",
     "height": 369
    },
    "colab_type": "code",
    "hidden": true,
    "id": "ZjWAbQeioQNz",
    "outputId": "3cc340b2-1932-4f42-a477-4518dd9930b3"
   },
   "outputs": [
    {
     "data": {
      "image/png": "[encoded data removed]",
      "text/plain": [
       "<Figure size 720x720 with 15 Axes>"
      ]
     },
     "metadata": {
      "needs_background": "light",
      "tags": []
     },
     "output_type": "display_data"
    }
   ],
   "source": [
    "plot_samples(15, nz)"
   ]
  },
  {
   "cell_type": "markdown",
   "metadata": {
    "colab_type": "text",
    "heading_collapsed": true,
    "id": "nx2OQ4H9_R3y"
   },
   "source": [
    "### Training and Output - Code Units 16"
   ]
  },
  {
   "cell_type": "markdown",
   "metadata": {
    "colab_type": "text",
    "hidden": true,
    "id": "IWe4bzSrDVrt"
   },
   "source": [
    "**run the Model snippet above to create a new tf graph before running the following code snippets (has to be run before running every new model)**"
   ]
  },
  {
   "cell_type": "code",
   "execution_count": 0,
   "metadata": {
    "colab": {},
    "colab_type": "code",
    "hidden": true,
    "id": "n3NeIgc7439i"
   },
   "outputs": [],
   "source": [
    "nz = 16\n",
    "n_hidden = 256\n",
    "n_input = 784\n",
    "epochs = 120\n",
    "\n",
    "\n",
    "opt = Adam()\n",
    "model  = VAE(n_input, nz, n_hidden)"
   ]
  },
  {
   "cell_type": "code",
   "execution_count": 127,
   "metadata": {
    "colab": {
     "base_uri": "https://localhost:8080/",
     "height": 1000
    },
    "colab_type": "code",
    "hidden": true,
    "id": "8plyeDLVoWbt",
    "outputId": "31a5bf9c-ddac-4fa0-f984-c13c6200b727"
   },
   "outputs": [
    {
     "name": "stdout",
     "output_type": "stream",
     "text": [
      "Epoch: 0,  Loss: 56.430511474609375, \n",
      "Epoch: 1,  Loss: 39.01215362548828, \n",
      "Epoch: 2,  Loss: 35.74580001831055, \n",
      "Epoch: 3,  Loss: 34.39021682739258, \n",
      "Epoch: 4,  Loss: 33.5906982421875, \n",
      "Epoch: 5,  Loss: 33.02722930908203, \n",
      "Epoch: 6,  Loss: 32.5770378112793, \n",
      "Epoch: 7,  Loss: 32.23971939086914, \n",
      "Epoch: 8,  Loss: 31.955734252929688, \n",
      "Epoch: 9,  Loss: 31.72450065612793, \n",
      "Epoch: 10,  Loss: 31.547727584838867, \n",
      "Epoch: 11,  Loss: 31.386112213134766, \n",
      "Epoch: 12,  Loss: 31.21816062927246, \n",
      "Epoch: 13,  Loss: 31.0903377532959, \n",
      "Epoch: 14,  Loss: 31.02701187133789, \n",
      "Epoch: 15,  Loss: 30.902996063232422, \n",
      "Epoch: 16,  Loss: 30.767248153686523, \n",
      "Epoch: 17,  Loss: 30.719247817993164, \n",
      "Epoch: 18,  Loss: 30.650251388549805, \n",
      "Epoch: 19,  Loss: 30.58295440673828, \n",
      "Epoch: 20,  Loss: 30.524404525756836, \n",
      "Epoch: 21,  Loss: 30.475971221923828, \n",
      "Epoch: 22,  Loss: 30.42063331604004, \n",
      "Epoch: 23,  Loss: 30.376113891601562, \n",
      "Epoch: 24,  Loss: 30.311050415039062, \n",
      "Epoch: 25,  Loss: 30.249326705932617, \n",
      "Epoch: 26,  Loss: 30.22696304321289, \n",
      "Epoch: 27,  Loss: 30.20328712463379, \n",
      "Epoch: 28,  Loss: 30.130704879760742, \n",
      "Epoch: 29,  Loss: 30.102642059326172, \n",
      "Epoch: 30,  Loss: 30.075977325439453, \n",
      "Epoch: 31,  Loss: 30.036344528198242, \n",
      "Epoch: 32,  Loss: 30.00696563720703, \n",
      "Epoch: 33,  Loss: 29.980239868164062, \n",
      "Epoch: 34,  Loss: 29.966772079467773, \n",
      "Epoch: 35,  Loss: 29.916263580322266, \n",
      "Epoch: 36,  Loss: 29.87171745300293, \n",
      "Epoch: 37,  Loss: 29.876611709594727, \n",
      "Epoch: 38,  Loss: 29.856046676635742, \n",
      "Epoch: 39,  Loss: 29.80543327331543, \n",
      "Epoch: 40,  Loss: 29.791101455688477, \n",
      "Epoch: 41,  Loss: 29.746076583862305, \n",
      "Epoch: 42,  Loss: 29.73674774169922, \n",
      "Epoch: 43,  Loss: 29.705848693847656, \n",
      "Epoch: 44,  Loss: 29.66427230834961, \n",
      "Epoch: 45,  Loss: 29.648550033569336, \n",
      "Epoch: 46,  Loss: 29.63840103149414, \n",
      "Epoch: 47,  Loss: 29.627653121948242, \n",
      "Epoch: 48,  Loss: 29.61195945739746, \n",
      "Epoch: 49,  Loss: 29.539278030395508, \n",
      "Epoch: 50,  Loss: 29.56449317932129, \n",
      "Epoch: 51,  Loss: 29.520374298095703, \n",
      "Epoch: 52,  Loss: 29.500947952270508, \n",
      "Epoch: 53,  Loss: 29.49452781677246, \n",
      "Epoch: 54,  Loss: 29.46477699279785, \n",
      "Epoch: 55,  Loss: 29.43716049194336, \n",
      "Epoch: 56,  Loss: 29.4407958984375, \n",
      "Epoch: 57,  Loss: 29.41078758239746, \n",
      "Epoch: 58,  Loss: 29.414520263671875, \n",
      "Epoch: 59,  Loss: 29.377845764160156, \n",
      "Epoch: 60,  Loss: 29.377347946166992, \n",
      "Epoch: 61,  Loss: 29.369203567504883, \n",
      "Epoch: 62,  Loss: 29.327871322631836, \n",
      "Epoch: 63,  Loss: 29.305919647216797, \n",
      "Epoch: 64,  Loss: 29.300024032592773, \n",
      "Epoch: 65,  Loss: 29.289810180664062, \n",
      "Epoch: 66,  Loss: 29.271995544433594, \n",
      "Epoch: 67,  Loss: 29.250558853149414, \n",
      "Epoch: 68,  Loss: 29.239356994628906, \n",
      "Epoch: 69,  Loss: 29.23830795288086, \n",
      "Epoch: 70,  Loss: 29.190143585205078, \n",
      "Epoch: 71,  Loss: 29.18191146850586, \n",
      "Epoch: 72,  Loss: 29.16131019592285, \n",
      "Epoch: 73,  Loss: 29.16441535949707, \n",
      "Epoch: 74,  Loss: 29.12500762939453, \n",
      "Epoch: 75,  Loss: 29.151575088500977, \n",
      "Epoch: 76,  Loss: 29.12384605407715, \n",
      "Epoch: 77,  Loss: 29.08263397216797, \n",
      "Epoch: 78,  Loss: 29.08616828918457, \n",
      "Epoch: 79,  Loss: 29.067834854125977, \n",
      "Epoch: 80,  Loss: 29.062461853027344, \n",
      "Epoch: 81,  Loss: 29.0540771484375, \n",
      "Epoch: 82,  Loss: 29.045516967773438, \n",
      "Epoch: 83,  Loss: 29.022417068481445, \n",
      "Epoch: 84,  Loss: 29.021106719970703, \n",
      "Epoch: 85,  Loss: 29.02016830444336, \n",
      "Epoch: 86,  Loss: 29.001901626586914, \n",
      "Epoch: 87,  Loss: 28.99642562866211, \n",
      "Epoch: 88,  Loss: 28.96999168395996, \n",
      "Epoch: 89,  Loss: 28.947235107421875, \n",
      "Epoch: 90,  Loss: 28.93048858642578, \n",
      "Epoch: 91,  Loss: 28.934656143188477, \n",
      "Epoch: 92,  Loss: 28.923912048339844, \n",
      "Epoch: 93,  Loss: 28.90996551513672, \n",
      "Epoch: 94,  Loss: 28.94266128540039, \n",
      "Epoch: 95,  Loss: 28.888526916503906, \n",
      "Epoch: 96,  Loss: 28.88820457458496, \n",
      "Epoch: 97,  Loss: 28.88426971435547, \n",
      "Epoch: 98,  Loss: 28.87163734436035, \n",
      "Epoch: 99,  Loss: 28.856481552124023, \n",
      "Epoch: 100,  Loss: 28.879796981811523, \n",
      "Epoch: 101,  Loss: 28.84011459350586, \n",
      "Epoch: 102,  Loss: 28.832263946533203, \n",
      "Epoch: 103,  Loss: 28.830318450927734, \n",
      "Epoch: 104,  Loss: 28.817407608032227, \n",
      "Epoch: 105,  Loss: 28.778079986572266, \n",
      "Epoch: 106,  Loss: 28.799671173095703, \n",
      "Epoch: 107,  Loss: 28.791439056396484, \n",
      "Epoch: 108,  Loss: 28.781352996826172, \n",
      "Epoch: 109,  Loss: 28.786344528198242, \n",
      "Epoch: 110,  Loss: 28.786788940429688, \n",
      "Epoch: 111,  Loss: 28.770275115966797, \n",
      "Epoch: 112,  Loss: 28.761062622070312, \n",
      "Epoch: 113,  Loss: 28.75259780883789, \n",
      "Epoch: 114,  Loss: 28.734697341918945, \n",
      "Epoch: 115,  Loss: 28.734174728393555, \n",
      "Epoch: 116,  Loss: 28.71693992614746, \n",
      "Epoch: 117,  Loss: 28.728914260864258, \n",
      "Epoch: 118,  Loss: 28.683788299560547, \n",
      "Epoch: 119,  Loss: 28.701181411743164, \n"
     ]
    }
   ],
   "source": [
    "train(model, opt, epochs)"
   ]
  },
  {
   "cell_type": "code",
   "execution_count": 133,
   "metadata": {
    "colab": {
     "base_uri": "https://localhost:8080/",
     "height": 369
    },
    "colab_type": "code",
    "hidden": true,
    "id": "fJ6xkXx-pCOV",
    "outputId": "32c935be-12fd-499a-8834-810aa9cb796a"
   },
   "outputs": [
    {
     "data": {
      "image/png": "[encoded data removed]",
      "text/plain": [
       "<Figure size 720x720 with 15 Axes>"
      ]
     },
     "metadata": {
      "needs_background": "light",
      "tags": []
     },
     "output_type": "display_data"
    }
   ],
   "source": [
    "plot_samples(15, nz)"
   ]
  }
 ],
 "metadata": {
  "accelerator": "GPU",
  "colab": {
   "name": "VAE.ipynb",
   "provenance": []
  },
  "kernelspec": {
   "display_name": "Python 3",
   "language": "python",
   "name": "python3"
  },
  "language_info": {
   "codemirror_mode": {
    "name": "ipython",
    "version": 3
   },
   "file_extension": ".py",
   "mimetype": "text/x-python",
   "name": "python",
   "nbconvert_exporter": "python",
   "pygments_lexer": "ipython3",
   "version": "3.6.9"
  }
 },
 "nbformat": 4,
 "nbformat_minor": 1
}
